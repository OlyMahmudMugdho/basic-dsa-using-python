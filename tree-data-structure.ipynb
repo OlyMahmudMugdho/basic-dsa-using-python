{
 "cells": [
  {
   "cell_type": "code",
   "execution_count": 4,
   "id": "f54021b4",
   "metadata": {},
   "outputs": [],
   "source": [
    "class Node:\n",
    "    def __init__(self,data):\n",
    "        self.data = data\n",
    "        self.left = None\n",
    "        self.right = None\n",
    "    \n",
    "    def add_left(self,node):\n",
    "        self.left = node\n",
    "        \n",
    "    def add_right(self,node):\n",
    "        self.right = node\n",
    "        \n",
    "    def preorder(self):\n",
    "        pass"
   ]
  },
  {
   "cell_type": "code",
   "execution_count": 5,
   "id": "37010daa",
   "metadata": {},
   "outputs": [],
   "source": [
    "t = Node(2)"
   ]
  },
  {
   "cell_type": "code",
   "execution_count": 6,
   "id": "cf346f20",
   "metadata": {},
   "outputs": [],
   "source": [
    "seven = Node(7)"
   ]
  },
  {
   "cell_type": "code",
   "execution_count": 7,
   "id": "7bc32e0e",
   "metadata": {},
   "outputs": [],
   "source": [
    "nine = Node(9)"
   ]
  },
  {
   "cell_type": "code",
   "execution_count": 8,
   "id": "1d9a2b05",
   "metadata": {},
   "outputs": [],
   "source": [
    "one = Node(1)"
   ]
  },
  {
   "cell_type": "code",
   "execution_count": 9,
   "id": "d5be5a59",
   "metadata": {},
   "outputs": [],
   "source": [
    "six = Node(6)"
   ]
  },
  {
   "cell_type": "code",
   "execution_count": 10,
   "id": "8a5cc99e",
   "metadata": {},
   "outputs": [],
   "source": [
    "eight = Node(8)"
   ]
  },
  {
   "cell_type": "code",
   "execution_count": 11,
   "id": "d31b1948",
   "metadata": {},
   "outputs": [],
   "source": [
    "five = Node(5)"
   ]
  },
  {
   "cell_type": "code",
   "execution_count": 12,
   "id": "e3feb025",
   "metadata": {},
   "outputs": [],
   "source": [
    "ten = Node(10)"
   ]
  },
  {
   "cell_type": "code",
   "execution_count": 13,
   "id": "22773f2f",
   "metadata": {},
   "outputs": [],
   "source": [
    "three = Node(3)"
   ]
  },
  {
   "cell_type": "code",
   "execution_count": 14,
   "id": "943dc0af",
   "metadata": {},
   "outputs": [],
   "source": [
    "four = Node(4)"
   ]
  },
  {
   "cell_type": "code",
   "execution_count": 15,
   "id": "efa5f768",
   "metadata": {},
   "outputs": [],
   "source": [
    "six.add_left(five)"
   ]
  },
  {
   "cell_type": "code",
   "execution_count": 16,
   "id": "6ac548d9",
   "metadata": {},
   "outputs": [],
   "source": [
    "six.add_right(ten)"
   ]
  },
  {
   "cell_type": "code",
   "execution_count": 17,
   "id": "7260602f",
   "metadata": {},
   "outputs": [],
   "source": [
    "seven.add_right(six)"
   ]
  },
  {
   "cell_type": "code",
   "execution_count": 18,
   "id": "b90fbb06",
   "metadata": {},
   "outputs": [],
   "source": [
    "seven.add_left(one)"
   ]
  },
  {
   "cell_type": "code",
   "execution_count": 19,
   "id": "35cdfce0",
   "metadata": {},
   "outputs": [],
   "source": [
    "t.add_left(seven)"
   ]
  },
  {
   "cell_type": "code",
   "execution_count": 20,
   "id": "d0ed12dc",
   "metadata": {},
   "outputs": [],
   "source": [
    "eight.add_left(three)"
   ]
  },
  {
   "cell_type": "code",
   "execution_count": 21,
   "id": "aa8f647b",
   "metadata": {},
   "outputs": [],
   "source": [
    "eight.add_right(four)"
   ]
  },
  {
   "cell_type": "code",
   "execution_count": 22,
   "id": "a70a30a5",
   "metadata": {},
   "outputs": [],
   "source": [
    "nine.add_right(eight)"
   ]
  },
  {
   "cell_type": "code",
   "execution_count": 23,
   "id": "dadae27f",
   "metadata": {},
   "outputs": [],
   "source": [
    "t.add_right(nine)"
   ]
  },
  {
   "cell_type": "code",
   "execution_count": 24,
   "id": "3ea0b20a",
   "metadata": {},
   "outputs": [],
   "source": [
    "def pre_order(node):\n",
    "    print(node.data)\n",
    "    \n",
    "    if node.left:\n",
    "        pre_order(node.left)\n",
    "        \n",
    "    if node.right:\n",
    "        pre_order(node.right)"
   ]
  },
  {
   "cell_type": "code",
   "execution_count": 25,
   "id": "ce1c0950",
   "metadata": {},
   "outputs": [
    {
     "name": "stdout",
     "output_type": "stream",
     "text": [
      "2\n",
      "7\n",
      "1\n",
      "6\n",
      "5\n",
      "10\n",
      "9\n",
      "8\n",
      "3\n",
      "4\n"
     ]
    }
   ],
   "source": [
    "pre_order(t)"
   ]
  },
  {
   "cell_type": "code",
   "execution_count": 26,
   "id": "038bc275",
   "metadata": {},
   "outputs": [],
   "source": [
    "def post_order(node):\n",
    "    if(node.left):\n",
    "        post_order(node.left)\n",
    "    if(node.right):\n",
    "        post_order(node.right)\n",
    "    print(node.data)"
   ]
  },
  {
   "cell_type": "code",
   "execution_count": 27,
   "id": "4056b0ea",
   "metadata": {},
   "outputs": [
    {
     "name": "stdout",
     "output_type": "stream",
     "text": [
      "1\n",
      "5\n",
      "10\n",
      "6\n",
      "7\n",
      "3\n",
      "4\n",
      "8\n",
      "9\n",
      "2\n"
     ]
    }
   ],
   "source": [
    "post_order(t)"
   ]
  },
  {
   "cell_type": "code",
   "execution_count": 28,
   "id": "c34d24fb",
   "metadata": {},
   "outputs": [],
   "source": [
    "def in_order(node):\n",
    "    if(node.left):\n",
    "        in_order(node.left)\n",
    "    print(node.data)\n",
    "    if(node.right):\n",
    "        in_order(node.right)"
   ]
  },
  {
   "cell_type": "code",
   "execution_count": 29,
   "id": "18279751",
   "metadata": {},
   "outputs": [
    {
     "name": "stdout",
     "output_type": "stream",
     "text": [
      "1\n",
      "7\n",
      "5\n",
      "6\n",
      "10\n",
      "2\n",
      "9\n",
      "3\n",
      "8\n",
      "4\n"
     ]
    }
   ],
   "source": [
    "in_order(t)"
   ]
  },
  {
   "cell_type": "code",
   "execution_count": null,
   "id": "dc1b1195",
   "metadata": {},
   "outputs": [],
   "source": []
  }
 ],
 "metadata": {
  "kernelspec": {
   "display_name": "Python 3 (ipykernel)",
   "language": "python",
   "name": "python3"
  },
  "language_info": {
   "codemirror_mode": {
    "name": "ipython",
    "version": 3
   },
   "file_extension": ".py",
   "mimetype": "text/x-python",
   "name": "python",
   "nbconvert_exporter": "python",
   "pygments_lexer": "ipython3",
   "version": "3.10.8"
  }
 },
 "nbformat": 4,
 "nbformat_minor": 5
}
