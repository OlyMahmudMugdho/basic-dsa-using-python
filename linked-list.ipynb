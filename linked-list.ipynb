{
 "cells": [
  {
   "cell_type": "code",
   "execution_count": 42,
   "id": "89f3814d",
   "metadata": {},
   "outputs": [],
   "source": [
    "class Node:\n",
    "    def __init__(self,data):\n",
    "        self.data = data\n",
    "        self.next = None\n",
    "    \n",
    "class LinkedList:\n",
    "    def __init__(self):\n",
    "        self.head = None\n",
    "        \n",
    "    def prepend(self,data):\n",
    "        node = Node(data)\n",
    "        node.next = self.head\n",
    "        self.head = node\n",
    "    \n",
    "    def insert(self,previous_node,data):\n",
    "        node = Node(data)\n",
    "        temp = self.head\n",
    "        while(temp):\n",
    "            if(temp.data==previous_node):\n",
    "                break\n",
    "            temp = temp.next\n",
    "        node.next = temp.next\n",
    "        temp.next = node\n",
    "        \n",
    "    def append(self,data):\n",
    "        if(self.head==None):\n",
    "            prepend(data)\n",
    "        temp = self.head\n",
    "        while(temp):\n",
    "            if(temp.next==None):\n",
    "                break\n",
    "            temp = temp.next\n",
    "        node = Node(data)\n",
    "        temp.next = node\n",
    "        \n",
    "    def pop(self):\n",
    "        temp = self.head\n",
    "        while(temp):\n",
    "            if(temp.next==None):\n",
    "                break\n",
    "            prev = temp\n",
    "            temp = temp.next\n",
    "            \n",
    "        prev.next = None\n",
    "        \n",
    "    def remove(self,data):\n",
    "        temp = self.head\n",
    "        if(temp.data==data):\n",
    "            self.head = temp.next\n",
    "            return\n",
    "        while(temp):\n",
    "            if(temp.data==data):\n",
    "                break\n",
    "            prev = temp\n",
    "            temp = temp.next\n",
    "        prev.next = temp.next\n",
    "    \n",
    "    def print_nodes(self):\n",
    "        temp = self.head\n",
    "        while(temp):\n",
    "            print(temp.data)\n",
    "            temp = temp.next"
   ]
  },
  {
   "cell_type": "code",
   "execution_count": 43,
   "id": "4322d562",
   "metadata": {},
   "outputs": [],
   "source": [
    "num1 = LinkedList()"
   ]
  },
  {
   "cell_type": "code",
   "execution_count": 44,
   "id": "ea135423",
   "metadata": {},
   "outputs": [],
   "source": [
    "num1.prepend(1)"
   ]
  },
  {
   "cell_type": "code",
   "execution_count": 45,
   "id": "d373e303",
   "metadata": {},
   "outputs": [],
   "source": [
    "num1.prepend(5)"
   ]
  },
  {
   "cell_type": "code",
   "execution_count": 46,
   "id": "a20c8d9f",
   "metadata": {},
   "outputs": [
    {
     "name": "stdout",
     "output_type": "stream",
     "text": [
      "5\n",
      "1\n"
     ]
    }
   ],
   "source": [
    "num1.print_list()"
   ]
  },
  {
   "cell_type": "code",
   "execution_count": 47,
   "id": "33eb267a",
   "metadata": {},
   "outputs": [
    {
     "name": "stdout",
     "output_type": "stream",
     "text": [
      "Found\n"
     ]
    }
   ],
   "source": [
    "num1.print_element(5)"
   ]
  },
  {
   "cell_type": "code",
   "execution_count": 49,
   "id": "246c35dc",
   "metadata": {},
   "outputs": [
    {
     "name": "stdout",
     "output_type": "stream",
     "text": [
      "Not found\n"
     ]
    }
   ],
   "source": [
    "num1.print_element(7)"
   ]
  },
  {
   "cell_type": "code",
   "execution_count": null,
   "id": "e09d9a08",
   "metadata": {},
   "outputs": [],
   "source": []
  }
 ],
 "metadata": {
  "kernelspec": {
   "display_name": "Python 3 (ipykernel)",
   "language": "python",
   "name": "python3"
  },
  "language_info": {
   "codemirror_mode": {
    "name": "ipython",
    "version": 3
   },
   "file_extension": ".py",
   "mimetype": "text/x-python",
   "name": "python",
   "nbconvert_exporter": "python",
   "pygments_lexer": "ipython3",
   "version": "3.10.8"
  }
 },
 "nbformat": 4,
 "nbformat_minor": 5
}
